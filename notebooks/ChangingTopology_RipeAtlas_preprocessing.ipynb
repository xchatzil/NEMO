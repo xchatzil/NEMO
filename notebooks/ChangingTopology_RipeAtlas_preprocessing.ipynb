{
 "cells": [
  {
   "cell_type": "code",
   "execution_count": 26,
   "outputs": [
    {
     "name": "stdout",
     "output_type": "stream",
     "text": [
      "The autoreload extension is already loaded. To reload it, use:\n",
      "  %reload_ext autoreload\n"
     ]
    }
   ],
   "source": [
    "%load_ext autoreload\n",
    "%autoreload 2\n",
    "\n",
    "import numpy as np\n",
    "import matplotlib.pyplot as plt\n",
    "from nemo import evaluate_nemo\n",
    "import util\n",
    "from topology import get_lognorm_hist\n",
    "import topology\n",
    "from util import evaluate\n",
    "import pandas as pd\n",
    "import random\n",
    "from nemo import NemoSolver"
   ],
   "metadata": {
    "collapsed": false,
    "ExecuteTime": {
     "end_time": "2023-11-29T10:48:24.746153320Z",
     "start_time": "2023-11-29T10:48:24.680622597Z"
    }
   }
  },
  {
   "cell_type": "markdown",
   "source": [
    "#### Topology Setup"
   ],
   "metadata": {
    "collapsed": false
   }
  },
  {
   "cell_type": "code",
   "execution_count": 50,
   "outputs": [],
   "source": [
    "def clean_df(df):\n",
    "    min_s = df.isna().sum().min()\n",
    "    df = df[df.isnull().sum(axis=1) < min_s]\n",
    "    df = df[list(df.index)]\n",
    "    df = df[df.isnull().sum(axis=1) < 10]\n",
    "    df = df[list(df.index)]\n",
    "    # set diag to 0\n",
    "    for i in list(df.index):\n",
    "        df.at[i, i] = 0\n",
    "\n",
    "    # Make the DataFrame symmetric\n",
    "    df = df + df.T - np.diag(df.values.diagonal())\n",
    "    df = df.fillna(1)\n",
    "    df = df.astype(int)\n",
    "    return df\n",
    "\n",
    "\n",
    "def prepare_all_dfs(root_dir, times=range(0, 23), days=range(1, 30)):\n",
    "    outputs = []\n",
    "    common_index = None\n",
    "    for time in times:\n",
    "        for day in days:\n",
    "            loc = root_dir + f\"time-{time}-day-{day}.csv\"\n",
    "            print(loc)\n",
    "            df_plb = pd.read_csv(loc, sep=\",\", header=None, dtype=float)\n",
    "            df_plb = df_plb.astype(float)\n",
    "            df_plb = df_plb.iloc[:, :-1]\n",
    "            df_plb.replace(-1, pd.NA, inplace=True)\n",
    "            df_plb = clean_df(df_plb)\n",
    "\n",
    "            if common_index is None:\n",
    "                common_index = set(df_plb.index)\n",
    "            else:\n",
    "                common_index = common_index & set(df_plb.index)\n",
    "            outputs.append(df_plb)\n",
    "\n",
    "    for i, df in enumerate(outputs):\n",
    "        df = df[df.index.isin(list(common_index))]\n",
    "        df = df[list(df.index)]\n",
    "        outputs[i] = df\n",
    "    return outputs"
   ],
   "metadata": {
    "collapsed": false,
    "ExecuteTime": {
     "end_time": "2023-11-29T11:13:07.283140954Z",
     "start_time": "2023-11-29T11:13:07.237609927Z"
    }
   }
  },
  {
   "cell_type": "code",
   "execution_count": 52,
   "outputs": [
    {
     "name": "stdout",
     "output_type": "stream",
     "text": [
      "datasets/RIPEAtlas/month/time-0-day-1.csv\n",
      "datasets/RIPEAtlas/month/time-1-day-1.csv\n",
      "datasets/RIPEAtlas/month/time-2-day-1.csv\n",
      "datasets/RIPEAtlas/month/time-3-day-1.csv\n",
      "datasets/RIPEAtlas/month/time-4-day-1.csv\n",
      "datasets/RIPEAtlas/month/time-5-day-1.csv\n",
      "datasets/RIPEAtlas/month/time-6-day-1.csv\n",
      "datasets/RIPEAtlas/month/time-7-day-1.csv\n",
      "datasets/RIPEAtlas/month/time-8-day-1.csv\n",
      "datasets/RIPEAtlas/month/time-9-day-1.csv\n",
      "datasets/RIPEAtlas/month/time-10-day-1.csv\n",
      "datasets/RIPEAtlas/month/time-11-day-1.csv\n",
      "datasets/RIPEAtlas/month/time-12-day-1.csv\n",
      "datasets/RIPEAtlas/month/time-13-day-1.csv\n",
      "datasets/RIPEAtlas/month/time-14-day-1.csv\n",
      "datasets/RIPEAtlas/month/time-15-day-1.csv\n",
      "datasets/RIPEAtlas/month/time-16-day-1.csv\n",
      "datasets/RIPEAtlas/month/time-17-day-1.csv\n",
      "datasets/RIPEAtlas/month/time-18-day-1.csv\n",
      "datasets/RIPEAtlas/month/time-19-day-1.csv\n",
      "datasets/RIPEAtlas/month/time-20-day-1.csv\n",
      "datasets/RIPEAtlas/month/time-21-day-1.csv\n",
      "datasets/RIPEAtlas/month/time-22-day-1.csv\n",
      "datasets/RIPEAtlas/month/time-23-day-1.csv\n"
     ]
    }
   ],
   "source": [
    "offset = 3\n",
    "df_months = prepare_all_dfs(\"datasets/RIPEAtlas/month/\", times=range(0, 24), days=range(1, 2))"
   ],
   "metadata": {
    "collapsed": false,
    "ExecuteTime": {
     "end_time": "2023-11-29T11:19:34.401945031Z",
     "start_time": "2023-11-29T11:19:10.294131280Z"
    }
   }
  },
  {
   "cell_type": "code",
   "execution_count": 59,
   "outputs": [],
   "source": [
    "for i, df in enumerate(df_months):\n",
    "    loc = f\"datasets/RIPEAtlas/02072023/time-{i}.csv\"\n",
    "    df.to_csv(loc, header=True, index=False)"
   ],
   "metadata": {
    "collapsed": false,
    "ExecuteTime": {
     "end_time": "2023-11-29T11:40:42.529710429Z",
     "start_time": "2023-11-29T11:40:40.624370386Z"
    }
   }
  },
  {
   "cell_type": "code",
   "execution_count": 58,
   "outputs": [
    {
     "data": {
      "text/plain": "      0     2     4     8     10    14    16    18    28    32    ...  1797  \\\n0        0    20    59    38    41    61   382   391   175    31  ...    55   \n2       20     0    42    40    37    43   341   371   182    19  ...     4   \n4       59    42     0     9    48    59   516   414   259    42  ...    53   \n8       38    40     9     0    41    58   503   408   187    20  ...    37   \n10      41    37    48    41     0    64   402   395   333    25  ...    41   \n...    ...   ...   ...   ...   ...   ...   ...   ...   ...   ...  ...   ...   \n1809    33    21    43    30    34    55   426   384   195    23  ...    21   \n1811   289   274   308   302   286   390   403   635   143   314  ...   274   \n1813   172   172   218   193   268   199   290   513    42   184  ...   177   \n1815   321   289   375   294   335   349   429   654   132   328  ...   316   \n1819    44     4    49    36    37    46   377   377   194    22  ...     5   \n\n      1799  1803  1805  1807  1809  1811  1813  1815  1819  \n0      364    32   195    31    33   289   172   321    44  \n2      256    33   155    36    21   274   172   289     4  \n4      328    24   224    10    43   308   218   375    49  \n8      288    10   198     1    30   302   193   294    36  \n10     275    55   225    43    34   286   268   335    37  \n...    ...   ...   ...   ...   ...   ...   ...   ...   ...  \n1809   289    20   197    36     0   306   185   339    21  \n1811   137   324   143   371   306     0   126    50   275  \n1813   131   186    25   198   185   126     0   167   177  \n1815     8   364   155   356   339    50   167     0   302  \n1819   264    40   180    39    21   275   177   302     0  \n\n[631 rows x 631 columns]",
      "text/html": "<div>\n<style scoped>\n    .dataframe tbody tr th:only-of-type {\n        vertical-align: middle;\n    }\n\n    .dataframe tbody tr th {\n        vertical-align: top;\n    }\n\n    .dataframe thead th {\n        text-align: right;\n    }\n</style>\n<table border=\"1\" class=\"dataframe\">\n  <thead>\n    <tr style=\"text-align: right;\">\n      <th></th>\n      <th>0</th>\n      <th>2</th>\n      <th>4</th>\n      <th>8</th>\n      <th>10</th>\n      <th>14</th>\n      <th>16</th>\n      <th>18</th>\n      <th>28</th>\n      <th>32</th>\n      <th>...</th>\n      <th>1797</th>\n      <th>1799</th>\n      <th>1803</th>\n      <th>1805</th>\n      <th>1807</th>\n      <th>1809</th>\n      <th>1811</th>\n      <th>1813</th>\n      <th>1815</th>\n      <th>1819</th>\n    </tr>\n  </thead>\n  <tbody>\n    <tr>\n      <th>0</th>\n      <td>0</td>\n      <td>20</td>\n      <td>59</td>\n      <td>38</td>\n      <td>41</td>\n      <td>61</td>\n      <td>382</td>\n      <td>391</td>\n      <td>175</td>\n      <td>31</td>\n      <td>...</td>\n      <td>55</td>\n      <td>364</td>\n      <td>32</td>\n      <td>195</td>\n      <td>31</td>\n      <td>33</td>\n      <td>289</td>\n      <td>172</td>\n      <td>321</td>\n      <td>44</td>\n    </tr>\n    <tr>\n      <th>2</th>\n      <td>20</td>\n      <td>0</td>\n      <td>42</td>\n      <td>40</td>\n      <td>37</td>\n      <td>43</td>\n      <td>341</td>\n      <td>371</td>\n      <td>182</td>\n      <td>19</td>\n      <td>...</td>\n      <td>4</td>\n      <td>256</td>\n      <td>33</td>\n      <td>155</td>\n      <td>36</td>\n      <td>21</td>\n      <td>274</td>\n      <td>172</td>\n      <td>289</td>\n      <td>4</td>\n    </tr>\n    <tr>\n      <th>4</th>\n      <td>59</td>\n      <td>42</td>\n      <td>0</td>\n      <td>9</td>\n      <td>48</td>\n      <td>59</td>\n      <td>516</td>\n      <td>414</td>\n      <td>259</td>\n      <td>42</td>\n      <td>...</td>\n      <td>53</td>\n      <td>328</td>\n      <td>24</td>\n      <td>224</td>\n      <td>10</td>\n      <td>43</td>\n      <td>308</td>\n      <td>218</td>\n      <td>375</td>\n      <td>49</td>\n    </tr>\n    <tr>\n      <th>8</th>\n      <td>38</td>\n      <td>40</td>\n      <td>9</td>\n      <td>0</td>\n      <td>41</td>\n      <td>58</td>\n      <td>503</td>\n      <td>408</td>\n      <td>187</td>\n      <td>20</td>\n      <td>...</td>\n      <td>37</td>\n      <td>288</td>\n      <td>10</td>\n      <td>198</td>\n      <td>1</td>\n      <td>30</td>\n      <td>302</td>\n      <td>193</td>\n      <td>294</td>\n      <td>36</td>\n    </tr>\n    <tr>\n      <th>10</th>\n      <td>41</td>\n      <td>37</td>\n      <td>48</td>\n      <td>41</td>\n      <td>0</td>\n      <td>64</td>\n      <td>402</td>\n      <td>395</td>\n      <td>333</td>\n      <td>25</td>\n      <td>...</td>\n      <td>41</td>\n      <td>275</td>\n      <td>55</td>\n      <td>225</td>\n      <td>43</td>\n      <td>34</td>\n      <td>286</td>\n      <td>268</td>\n      <td>335</td>\n      <td>37</td>\n    </tr>\n    <tr>\n      <th>...</th>\n      <td>...</td>\n      <td>...</td>\n      <td>...</td>\n      <td>...</td>\n      <td>...</td>\n      <td>...</td>\n      <td>...</td>\n      <td>...</td>\n      <td>...</td>\n      <td>...</td>\n      <td>...</td>\n      <td>...</td>\n      <td>...</td>\n      <td>...</td>\n      <td>...</td>\n      <td>...</td>\n      <td>...</td>\n      <td>...</td>\n      <td>...</td>\n      <td>...</td>\n      <td>...</td>\n    </tr>\n    <tr>\n      <th>1809</th>\n      <td>33</td>\n      <td>21</td>\n      <td>43</td>\n      <td>30</td>\n      <td>34</td>\n      <td>55</td>\n      <td>426</td>\n      <td>384</td>\n      <td>195</td>\n      <td>23</td>\n      <td>...</td>\n      <td>21</td>\n      <td>289</td>\n      <td>20</td>\n      <td>197</td>\n      <td>36</td>\n      <td>0</td>\n      <td>306</td>\n      <td>185</td>\n      <td>339</td>\n      <td>21</td>\n    </tr>\n    <tr>\n      <th>1811</th>\n      <td>289</td>\n      <td>274</td>\n      <td>308</td>\n      <td>302</td>\n      <td>286</td>\n      <td>390</td>\n      <td>403</td>\n      <td>635</td>\n      <td>143</td>\n      <td>314</td>\n      <td>...</td>\n      <td>274</td>\n      <td>137</td>\n      <td>324</td>\n      <td>143</td>\n      <td>371</td>\n      <td>306</td>\n      <td>0</td>\n      <td>126</td>\n      <td>50</td>\n      <td>275</td>\n    </tr>\n    <tr>\n      <th>1813</th>\n      <td>172</td>\n      <td>172</td>\n      <td>218</td>\n      <td>193</td>\n      <td>268</td>\n      <td>199</td>\n      <td>290</td>\n      <td>513</td>\n      <td>42</td>\n      <td>184</td>\n      <td>...</td>\n      <td>177</td>\n      <td>131</td>\n      <td>186</td>\n      <td>25</td>\n      <td>198</td>\n      <td>185</td>\n      <td>126</td>\n      <td>0</td>\n      <td>167</td>\n      <td>177</td>\n    </tr>\n    <tr>\n      <th>1815</th>\n      <td>321</td>\n      <td>289</td>\n      <td>375</td>\n      <td>294</td>\n      <td>335</td>\n      <td>349</td>\n      <td>429</td>\n      <td>654</td>\n      <td>132</td>\n      <td>328</td>\n      <td>...</td>\n      <td>316</td>\n      <td>8</td>\n      <td>364</td>\n      <td>155</td>\n      <td>356</td>\n      <td>339</td>\n      <td>50</td>\n      <td>167</td>\n      <td>0</td>\n      <td>302</td>\n    </tr>\n    <tr>\n      <th>1819</th>\n      <td>44</td>\n      <td>4</td>\n      <td>49</td>\n      <td>36</td>\n      <td>37</td>\n      <td>46</td>\n      <td>377</td>\n      <td>377</td>\n      <td>194</td>\n      <td>22</td>\n      <td>...</td>\n      <td>5</td>\n      <td>264</td>\n      <td>40</td>\n      <td>180</td>\n      <td>39</td>\n      <td>21</td>\n      <td>275</td>\n      <td>177</td>\n      <td>302</td>\n      <td>0</td>\n    </tr>\n  </tbody>\n</table>\n<p>631 rows × 631 columns</p>\n</div>"
     },
     "execution_count": 58,
     "metadata": {},
     "output_type": "execute_result"
    }
   ],
   "source": [
    "df_months[5]"
   ],
   "metadata": {
    "collapsed": false,
    "ExecuteTime": {
     "end_time": "2023-11-29T11:35:49.435100041Z",
     "start_time": "2023-11-29T11:35:49.382755444Z"
    }
   }
  },
  {
   "cell_type": "code",
   "execution_count": 2,
   "outputs": [],
   "source": [
    "df_plb = pd.read_csv(\"datasets/RIPEAtlas/month/time-0-day-2.csv\", sep=\",\", header=None)\n",
    "df_plb = df_plb.astype(float)\n",
    "df_plb = df_plb.iloc[:, :-1]\n",
    "df_plb.replace(-1, pd.NA, inplace=True)"
   ],
   "metadata": {
    "collapsed": false,
    "ExecuteTime": {
     "end_time": "2023-11-29T10:29:18.023257864Z",
     "start_time": "2023-11-29T10:29:16.937710192Z"
    }
   }
  },
  {
   "cell_type": "code",
   "execution_count": 3,
   "outputs": [
    {
     "data": {
      "text/plain": "            0           1           2     3           4     5     6     7     \\\n0       2.913954        <NA>   10.071039  <NA>   29.505642  <NA>  <NA>  <NA>   \n1           <NA>    3.124919        <NA>  <NA>        <NA>  <NA>  <NA>  <NA>   \n2       9.972284        <NA>    1.029232  <NA>   21.127371  <NA>  <NA>  <NA>   \n3           <NA>        <NA>        <NA>  <NA>        <NA>  <NA>  <NA>  <NA>   \n4      29.247761        <NA>   20.923276  <NA>    11.09714  <NA>  <NA>  <NA>   \n...          ...         ...         ...   ...         ...   ...   ...   ...   \n1816        <NA>  141.861072        <NA>  <NA>        <NA>  <NA>  <NA>  <NA>   \n1817  281.597683        <NA>  284.566204  <NA>  319.512377  <NA>  <NA>  <NA>   \n1818        <NA>  296.533009        <NA>  <NA>        <NA>  <NA>  <NA>  <NA>   \n1819   22.244281        <NA>    1.860806  <NA>   24.698623  <NA>  <NA>  <NA>   \n1820        <NA>   11.686346        <NA>  <NA>        <NA>  <NA>  <NA>  <NA>   \n\n           8           9     ...        1811        1812        1813  \\\n0     18.801541        <NA>  ...  145.187708        <NA>   86.253351   \n1          <NA>    31.71046  ...        <NA>  143.615587        <NA>   \n2     16.973022        <NA>  ...   137.07206        <NA>   86.498679   \n3          <NA>        <NA>  ...        <NA>        <NA>        <NA>   \n4      4.941659        <NA>  ...  181.758786        <NA>    109.7656   \n...         ...         ...  ...         ...         ...         ...   \n1816       <NA>  148.391652  ...        <NA>   15.103461        <NA>   \n1817       <NA>        <NA>  ...  453.691162        <NA>  374.195363   \n1818       <NA>  315.658193  ...        <NA>  430.793238        <NA>   \n1819  18.271304        <NA>  ...  137.812962        <NA>   86.559507   \n1820       <NA>   18.647295  ...        <NA>  574.451419        <NA>   \n\n            1814        1815        1816        1817        1818        1819  \\\n0           <NA>  160.476427        <NA>  283.604187        <NA>   22.406282   \n1      86.861502        <NA>  141.726601        <NA>    311.6265        <NA>   \n2           <NA>  144.907396        <NA>   289.20014        <NA>    2.252551   \n3           <NA>        <NA>        <NA>        <NA>        <NA>        <NA>   \n4           <NA>   187.73926        <NA>  306.365028        <NA>   24.805953   \n...          ...         ...         ...         ...         ...         ...   \n1816   82.914086        <NA>    0.082916        <NA>  452.335776        <NA>   \n1817        <NA>  476.007024        <NA>    0.391832        <NA>  310.716693   \n1818  395.721508        <NA>  446.821279        <NA>    0.426806        <NA>   \n1819        <NA>  151.267923        <NA>  286.589017        <NA>    0.358726   \n1820   91.034426        <NA>  168.031727        <NA>  305.987374        <NA>   \n\n            1820  \n0           <NA>  \n1      11.912735  \n2           <NA>  \n3           <NA>  \n4           <NA>  \n...          ...  \n1816  168.034613  \n1817        <NA>  \n1818  283.106903  \n1819        <NA>  \n1820    0.436528  \n\n[1821 rows x 1821 columns]",
      "text/html": "<div>\n<style scoped>\n    .dataframe tbody tr th:only-of-type {\n        vertical-align: middle;\n    }\n\n    .dataframe tbody tr th {\n        vertical-align: top;\n    }\n\n    .dataframe thead th {\n        text-align: right;\n    }\n</style>\n<table border=\"1\" class=\"dataframe\">\n  <thead>\n    <tr style=\"text-align: right;\">\n      <th></th>\n      <th>0</th>\n      <th>1</th>\n      <th>2</th>\n      <th>3</th>\n      <th>4</th>\n      <th>5</th>\n      <th>6</th>\n      <th>7</th>\n      <th>8</th>\n      <th>9</th>\n      <th>...</th>\n      <th>1811</th>\n      <th>1812</th>\n      <th>1813</th>\n      <th>1814</th>\n      <th>1815</th>\n      <th>1816</th>\n      <th>1817</th>\n      <th>1818</th>\n      <th>1819</th>\n      <th>1820</th>\n    </tr>\n  </thead>\n  <tbody>\n    <tr>\n      <th>0</th>\n      <td>2.913954</td>\n      <td>&lt;NA&gt;</td>\n      <td>10.071039</td>\n      <td>&lt;NA&gt;</td>\n      <td>29.505642</td>\n      <td>&lt;NA&gt;</td>\n      <td>&lt;NA&gt;</td>\n      <td>&lt;NA&gt;</td>\n      <td>18.801541</td>\n      <td>&lt;NA&gt;</td>\n      <td>...</td>\n      <td>145.187708</td>\n      <td>&lt;NA&gt;</td>\n      <td>86.253351</td>\n      <td>&lt;NA&gt;</td>\n      <td>160.476427</td>\n      <td>&lt;NA&gt;</td>\n      <td>283.604187</td>\n      <td>&lt;NA&gt;</td>\n      <td>22.406282</td>\n      <td>&lt;NA&gt;</td>\n    </tr>\n    <tr>\n      <th>1</th>\n      <td>&lt;NA&gt;</td>\n      <td>3.124919</td>\n      <td>&lt;NA&gt;</td>\n      <td>&lt;NA&gt;</td>\n      <td>&lt;NA&gt;</td>\n      <td>&lt;NA&gt;</td>\n      <td>&lt;NA&gt;</td>\n      <td>&lt;NA&gt;</td>\n      <td>&lt;NA&gt;</td>\n      <td>31.71046</td>\n      <td>...</td>\n      <td>&lt;NA&gt;</td>\n      <td>143.615587</td>\n      <td>&lt;NA&gt;</td>\n      <td>86.861502</td>\n      <td>&lt;NA&gt;</td>\n      <td>141.726601</td>\n      <td>&lt;NA&gt;</td>\n      <td>311.6265</td>\n      <td>&lt;NA&gt;</td>\n      <td>11.912735</td>\n    </tr>\n    <tr>\n      <th>2</th>\n      <td>9.972284</td>\n      <td>&lt;NA&gt;</td>\n      <td>1.029232</td>\n      <td>&lt;NA&gt;</td>\n      <td>21.127371</td>\n      <td>&lt;NA&gt;</td>\n      <td>&lt;NA&gt;</td>\n      <td>&lt;NA&gt;</td>\n      <td>16.973022</td>\n      <td>&lt;NA&gt;</td>\n      <td>...</td>\n      <td>137.07206</td>\n      <td>&lt;NA&gt;</td>\n      <td>86.498679</td>\n      <td>&lt;NA&gt;</td>\n      <td>144.907396</td>\n      <td>&lt;NA&gt;</td>\n      <td>289.20014</td>\n      <td>&lt;NA&gt;</td>\n      <td>2.252551</td>\n      <td>&lt;NA&gt;</td>\n    </tr>\n    <tr>\n      <th>3</th>\n      <td>&lt;NA&gt;</td>\n      <td>&lt;NA&gt;</td>\n      <td>&lt;NA&gt;</td>\n      <td>&lt;NA&gt;</td>\n      <td>&lt;NA&gt;</td>\n      <td>&lt;NA&gt;</td>\n      <td>&lt;NA&gt;</td>\n      <td>&lt;NA&gt;</td>\n      <td>&lt;NA&gt;</td>\n      <td>&lt;NA&gt;</td>\n      <td>...</td>\n      <td>&lt;NA&gt;</td>\n      <td>&lt;NA&gt;</td>\n      <td>&lt;NA&gt;</td>\n      <td>&lt;NA&gt;</td>\n      <td>&lt;NA&gt;</td>\n      <td>&lt;NA&gt;</td>\n      <td>&lt;NA&gt;</td>\n      <td>&lt;NA&gt;</td>\n      <td>&lt;NA&gt;</td>\n      <td>&lt;NA&gt;</td>\n    </tr>\n    <tr>\n      <th>4</th>\n      <td>29.247761</td>\n      <td>&lt;NA&gt;</td>\n      <td>20.923276</td>\n      <td>&lt;NA&gt;</td>\n      <td>11.09714</td>\n      <td>&lt;NA&gt;</td>\n      <td>&lt;NA&gt;</td>\n      <td>&lt;NA&gt;</td>\n      <td>4.941659</td>\n      <td>&lt;NA&gt;</td>\n      <td>...</td>\n      <td>181.758786</td>\n      <td>&lt;NA&gt;</td>\n      <td>109.7656</td>\n      <td>&lt;NA&gt;</td>\n      <td>187.73926</td>\n      <td>&lt;NA&gt;</td>\n      <td>306.365028</td>\n      <td>&lt;NA&gt;</td>\n      <td>24.805953</td>\n      <td>&lt;NA&gt;</td>\n    </tr>\n    <tr>\n      <th>...</th>\n      <td>...</td>\n      <td>...</td>\n      <td>...</td>\n      <td>...</td>\n      <td>...</td>\n      <td>...</td>\n      <td>...</td>\n      <td>...</td>\n      <td>...</td>\n      <td>...</td>\n      <td>...</td>\n      <td>...</td>\n      <td>...</td>\n      <td>...</td>\n      <td>...</td>\n      <td>...</td>\n      <td>...</td>\n      <td>...</td>\n      <td>...</td>\n      <td>...</td>\n      <td>...</td>\n    </tr>\n    <tr>\n      <th>1816</th>\n      <td>&lt;NA&gt;</td>\n      <td>141.861072</td>\n      <td>&lt;NA&gt;</td>\n      <td>&lt;NA&gt;</td>\n      <td>&lt;NA&gt;</td>\n      <td>&lt;NA&gt;</td>\n      <td>&lt;NA&gt;</td>\n      <td>&lt;NA&gt;</td>\n      <td>&lt;NA&gt;</td>\n      <td>148.391652</td>\n      <td>...</td>\n      <td>&lt;NA&gt;</td>\n      <td>15.103461</td>\n      <td>&lt;NA&gt;</td>\n      <td>82.914086</td>\n      <td>&lt;NA&gt;</td>\n      <td>0.082916</td>\n      <td>&lt;NA&gt;</td>\n      <td>452.335776</td>\n      <td>&lt;NA&gt;</td>\n      <td>168.034613</td>\n    </tr>\n    <tr>\n      <th>1817</th>\n      <td>281.597683</td>\n      <td>&lt;NA&gt;</td>\n      <td>284.566204</td>\n      <td>&lt;NA&gt;</td>\n      <td>319.512377</td>\n      <td>&lt;NA&gt;</td>\n      <td>&lt;NA&gt;</td>\n      <td>&lt;NA&gt;</td>\n      <td>&lt;NA&gt;</td>\n      <td>&lt;NA&gt;</td>\n      <td>...</td>\n      <td>453.691162</td>\n      <td>&lt;NA&gt;</td>\n      <td>374.195363</td>\n      <td>&lt;NA&gt;</td>\n      <td>476.007024</td>\n      <td>&lt;NA&gt;</td>\n      <td>0.391832</td>\n      <td>&lt;NA&gt;</td>\n      <td>310.716693</td>\n      <td>&lt;NA&gt;</td>\n    </tr>\n    <tr>\n      <th>1818</th>\n      <td>&lt;NA&gt;</td>\n      <td>296.533009</td>\n      <td>&lt;NA&gt;</td>\n      <td>&lt;NA&gt;</td>\n      <td>&lt;NA&gt;</td>\n      <td>&lt;NA&gt;</td>\n      <td>&lt;NA&gt;</td>\n      <td>&lt;NA&gt;</td>\n      <td>&lt;NA&gt;</td>\n      <td>315.658193</td>\n      <td>...</td>\n      <td>&lt;NA&gt;</td>\n      <td>430.793238</td>\n      <td>&lt;NA&gt;</td>\n      <td>395.721508</td>\n      <td>&lt;NA&gt;</td>\n      <td>446.821279</td>\n      <td>&lt;NA&gt;</td>\n      <td>0.426806</td>\n      <td>&lt;NA&gt;</td>\n      <td>283.106903</td>\n    </tr>\n    <tr>\n      <th>1819</th>\n      <td>22.244281</td>\n      <td>&lt;NA&gt;</td>\n      <td>1.860806</td>\n      <td>&lt;NA&gt;</td>\n      <td>24.698623</td>\n      <td>&lt;NA&gt;</td>\n      <td>&lt;NA&gt;</td>\n      <td>&lt;NA&gt;</td>\n      <td>18.271304</td>\n      <td>&lt;NA&gt;</td>\n      <td>...</td>\n      <td>137.812962</td>\n      <td>&lt;NA&gt;</td>\n      <td>86.559507</td>\n      <td>&lt;NA&gt;</td>\n      <td>151.267923</td>\n      <td>&lt;NA&gt;</td>\n      <td>286.589017</td>\n      <td>&lt;NA&gt;</td>\n      <td>0.358726</td>\n      <td>&lt;NA&gt;</td>\n    </tr>\n    <tr>\n      <th>1820</th>\n      <td>&lt;NA&gt;</td>\n      <td>11.686346</td>\n      <td>&lt;NA&gt;</td>\n      <td>&lt;NA&gt;</td>\n      <td>&lt;NA&gt;</td>\n      <td>&lt;NA&gt;</td>\n      <td>&lt;NA&gt;</td>\n      <td>&lt;NA&gt;</td>\n      <td>&lt;NA&gt;</td>\n      <td>18.647295</td>\n      <td>...</td>\n      <td>&lt;NA&gt;</td>\n      <td>574.451419</td>\n      <td>&lt;NA&gt;</td>\n      <td>91.034426</td>\n      <td>&lt;NA&gt;</td>\n      <td>168.031727</td>\n      <td>&lt;NA&gt;</td>\n      <td>305.987374</td>\n      <td>&lt;NA&gt;</td>\n      <td>0.436528</td>\n    </tr>\n  </tbody>\n</table>\n<p>1821 rows × 1821 columns</p>\n</div>"
     },
     "execution_count": 3,
     "metadata": {},
     "output_type": "execute_result"
    }
   ],
   "source": [
    "df_plb"
   ],
   "metadata": {
    "collapsed": false,
    "ExecuteTime": {
     "end_time": "2023-11-29T10:29:18.950333867Z",
     "start_time": "2023-11-29T10:29:18.906299108Z"
    }
   }
  },
  {
   "cell_type": "code",
   "execution_count": null,
   "outputs": [],
   "source": [],
   "metadata": {
    "collapsed": false
   }
  },
  {
   "cell_type": "code",
   "execution_count": 89,
   "outputs": [
    {
     "name": "stdout",
     "output_type": "stream",
     "text": [
      "Min: 1085 Max: 1821\n"
     ]
    }
   ],
   "source": [
    "df_sums = df_plb.isna().sum()\n",
    "print(\"Min:\", df_sums.min(), \"Max:\", df_sums.max())"
   ],
   "metadata": {
    "collapsed": false,
    "ExecuteTime": {
     "end_time": "2023-11-29T10:26:33.667563975Z",
     "start_time": "2023-11-29T10:26:33.457157194Z"
    }
   }
  },
  {
   "cell_type": "code",
   "execution_count": 90,
   "outputs": [
    {
     "data": {
      "text/plain": "            0           2           4           8           10          14    \\\n0       2.913954   10.071039   29.505642   18.801541   19.191051    31.39236   \n2       9.972284    1.029232   21.127371   16.973022   17.491243   22.282937   \n4      29.247761   20.923276    11.09714    4.941659   32.642098   29.592434   \n8      18.936559   16.774484    4.392463     0.37252   19.467639   29.322996   \n10     19.429173   16.665339   31.476769   19.035095    1.558739   35.774497   \n...          ...         ...         ...         ...         ...         ...   \n1811  145.221231  137.132743  154.458585  151.450426  147.750125  152.277354   \n1813   86.363699   86.334736  109.128806   96.722848  134.581554    99.75352   \n1815  160.736795  144.757579  187.745818  147.304155  167.621886  170.521891   \n1817  281.597683  284.566204  319.512377        <NA>  315.030215  312.248671   \n1819   22.244281    1.860806   24.698623   18.271304   17.887166    22.94917   \n\n            16          18          28          32    ...        1801  \\\n0     191.378631  189.950013   87.314931   15.539913  ...  195.977178   \n2     166.489693  185.599561   90.973138    9.882766  ...  185.463103   \n4     254.398678  201.978211  129.799935   21.301142  ...  203.998412   \n8     249.306347  204.216303   93.678034    9.240315  ...   197.73808   \n10    199.050446  191.844434  166.372578   30.200747  ...   197.09052   \n...          ...         ...         ...         ...  ...         ...   \n1811   198.03038  312.007895   71.735561  157.182623  ...  275.991919   \n1813  141.859283  250.889705   21.027011   92.292562  ...  205.191284   \n1815  214.002262  328.895353   72.028951  163.713078  ...  304.943209   \n1817  473.804916  478.642924  367.064861  320.329602  ...  495.939886   \n1819  186.225114  182.784531   97.244579   11.234654  ...  199.630171   \n\n            1803        1805        1807        1809        1811        1813  \\\n0      16.727957   87.542701   16.142928   17.214772  145.187708   86.253351   \n2       15.92909   75.924789    18.48951   10.764563   137.07206   86.498679   \n4      12.196507  111.370319    5.079655    21.53743  181.758786    109.7656   \n8       5.315531   98.644062    0.791822   15.355092   151.36443   96.687373   \n10     27.753148  112.024551   21.858635   21.103499  143.259807  134.539447   \n...          ...         ...         ...         ...         ...         ...   \n1811  162.418104   70.869337  150.919812  153.254686     0.15627   63.431075   \n1813   93.000125   11.861157   99.471062   92.990722   63.332708    0.166431   \n1815    182.0955   78.064285  180.690315  170.003573  313.834642    83.88138   \n1817  284.886953  394.311516  307.743943  282.363412  453.691162  374.195363   \n1819   20.261791   87.325908   19.813634   10.830552  137.812962   86.559507   \n\n            1815        1817        1819  \n0     160.476427  283.604187   22.406282  \n2     144.907396   289.20014    2.252551  \n4      187.73926  306.365028   24.805953  \n8     147.407936        <NA>   18.230134  \n10    167.516794  310.941731   18.675375  \n...          ...         ...         ...  \n1811   17.446089  433.119594  137.949303  \n1813   83.828111  363.218699   88.472277  \n1815    0.073838  466.317125  151.185795  \n1817  476.007024    0.391832  310.716693  \n1819  151.267923  286.589017    0.358726  \n\n[722 rows x 722 columns]",
      "text/html": "<div>\n<style scoped>\n    .dataframe tbody tr th:only-of-type {\n        vertical-align: middle;\n    }\n\n    .dataframe tbody tr th {\n        vertical-align: top;\n    }\n\n    .dataframe thead th {\n        text-align: right;\n    }\n</style>\n<table border=\"1\" class=\"dataframe\">\n  <thead>\n    <tr style=\"text-align: right;\">\n      <th></th>\n      <th>0</th>\n      <th>2</th>\n      <th>4</th>\n      <th>8</th>\n      <th>10</th>\n      <th>14</th>\n      <th>16</th>\n      <th>18</th>\n      <th>28</th>\n      <th>32</th>\n      <th>...</th>\n      <th>1801</th>\n      <th>1803</th>\n      <th>1805</th>\n      <th>1807</th>\n      <th>1809</th>\n      <th>1811</th>\n      <th>1813</th>\n      <th>1815</th>\n      <th>1817</th>\n      <th>1819</th>\n    </tr>\n  </thead>\n  <tbody>\n    <tr>\n      <th>0</th>\n      <td>2.913954</td>\n      <td>10.071039</td>\n      <td>29.505642</td>\n      <td>18.801541</td>\n      <td>19.191051</td>\n      <td>31.39236</td>\n      <td>191.378631</td>\n      <td>189.950013</td>\n      <td>87.314931</td>\n      <td>15.539913</td>\n      <td>...</td>\n      <td>195.977178</td>\n      <td>16.727957</td>\n      <td>87.542701</td>\n      <td>16.142928</td>\n      <td>17.214772</td>\n      <td>145.187708</td>\n      <td>86.253351</td>\n      <td>160.476427</td>\n      <td>283.604187</td>\n      <td>22.406282</td>\n    </tr>\n    <tr>\n      <th>2</th>\n      <td>9.972284</td>\n      <td>1.029232</td>\n      <td>21.127371</td>\n      <td>16.973022</td>\n      <td>17.491243</td>\n      <td>22.282937</td>\n      <td>166.489693</td>\n      <td>185.599561</td>\n      <td>90.973138</td>\n      <td>9.882766</td>\n      <td>...</td>\n      <td>185.463103</td>\n      <td>15.92909</td>\n      <td>75.924789</td>\n      <td>18.48951</td>\n      <td>10.764563</td>\n      <td>137.07206</td>\n      <td>86.498679</td>\n      <td>144.907396</td>\n      <td>289.20014</td>\n      <td>2.252551</td>\n    </tr>\n    <tr>\n      <th>4</th>\n      <td>29.247761</td>\n      <td>20.923276</td>\n      <td>11.09714</td>\n      <td>4.941659</td>\n      <td>32.642098</td>\n      <td>29.592434</td>\n      <td>254.398678</td>\n      <td>201.978211</td>\n      <td>129.799935</td>\n      <td>21.301142</td>\n      <td>...</td>\n      <td>203.998412</td>\n      <td>12.196507</td>\n      <td>111.370319</td>\n      <td>5.079655</td>\n      <td>21.53743</td>\n      <td>181.758786</td>\n      <td>109.7656</td>\n      <td>187.73926</td>\n      <td>306.365028</td>\n      <td>24.805953</td>\n    </tr>\n    <tr>\n      <th>8</th>\n      <td>18.936559</td>\n      <td>16.774484</td>\n      <td>4.392463</td>\n      <td>0.37252</td>\n      <td>19.467639</td>\n      <td>29.322996</td>\n      <td>249.306347</td>\n      <td>204.216303</td>\n      <td>93.678034</td>\n      <td>9.240315</td>\n      <td>...</td>\n      <td>197.73808</td>\n      <td>5.315531</td>\n      <td>98.644062</td>\n      <td>0.791822</td>\n      <td>15.355092</td>\n      <td>151.36443</td>\n      <td>96.687373</td>\n      <td>147.407936</td>\n      <td>&lt;NA&gt;</td>\n      <td>18.230134</td>\n    </tr>\n    <tr>\n      <th>10</th>\n      <td>19.429173</td>\n      <td>16.665339</td>\n      <td>31.476769</td>\n      <td>19.035095</td>\n      <td>1.558739</td>\n      <td>35.774497</td>\n      <td>199.050446</td>\n      <td>191.844434</td>\n      <td>166.372578</td>\n      <td>30.200747</td>\n      <td>...</td>\n      <td>197.09052</td>\n      <td>27.753148</td>\n      <td>112.024551</td>\n      <td>21.858635</td>\n      <td>21.103499</td>\n      <td>143.259807</td>\n      <td>134.539447</td>\n      <td>167.516794</td>\n      <td>310.941731</td>\n      <td>18.675375</td>\n    </tr>\n    <tr>\n      <th>...</th>\n      <td>...</td>\n      <td>...</td>\n      <td>...</td>\n      <td>...</td>\n      <td>...</td>\n      <td>...</td>\n      <td>...</td>\n      <td>...</td>\n      <td>...</td>\n      <td>...</td>\n      <td>...</td>\n      <td>...</td>\n      <td>...</td>\n      <td>...</td>\n      <td>...</td>\n      <td>...</td>\n      <td>...</td>\n      <td>...</td>\n      <td>...</td>\n      <td>...</td>\n      <td>...</td>\n    </tr>\n    <tr>\n      <th>1811</th>\n      <td>145.221231</td>\n      <td>137.132743</td>\n      <td>154.458585</td>\n      <td>151.450426</td>\n      <td>147.750125</td>\n      <td>152.277354</td>\n      <td>198.03038</td>\n      <td>312.007895</td>\n      <td>71.735561</td>\n      <td>157.182623</td>\n      <td>...</td>\n      <td>275.991919</td>\n      <td>162.418104</td>\n      <td>70.869337</td>\n      <td>150.919812</td>\n      <td>153.254686</td>\n      <td>0.15627</td>\n      <td>63.431075</td>\n      <td>17.446089</td>\n      <td>433.119594</td>\n      <td>137.949303</td>\n    </tr>\n    <tr>\n      <th>1813</th>\n      <td>86.363699</td>\n      <td>86.334736</td>\n      <td>109.128806</td>\n      <td>96.722848</td>\n      <td>134.581554</td>\n      <td>99.75352</td>\n      <td>141.859283</td>\n      <td>250.889705</td>\n      <td>21.027011</td>\n      <td>92.292562</td>\n      <td>...</td>\n      <td>205.191284</td>\n      <td>93.000125</td>\n      <td>11.861157</td>\n      <td>99.471062</td>\n      <td>92.990722</td>\n      <td>63.332708</td>\n      <td>0.166431</td>\n      <td>83.828111</td>\n      <td>363.218699</td>\n      <td>88.472277</td>\n    </tr>\n    <tr>\n      <th>1815</th>\n      <td>160.736795</td>\n      <td>144.757579</td>\n      <td>187.745818</td>\n      <td>147.304155</td>\n      <td>167.621886</td>\n      <td>170.521891</td>\n      <td>214.002262</td>\n      <td>328.895353</td>\n      <td>72.028951</td>\n      <td>163.713078</td>\n      <td>...</td>\n      <td>304.943209</td>\n      <td>182.0955</td>\n      <td>78.064285</td>\n      <td>180.690315</td>\n      <td>170.003573</td>\n      <td>313.834642</td>\n      <td>83.88138</td>\n      <td>0.073838</td>\n      <td>466.317125</td>\n      <td>151.185795</td>\n    </tr>\n    <tr>\n      <th>1817</th>\n      <td>281.597683</td>\n      <td>284.566204</td>\n      <td>319.512377</td>\n      <td>&lt;NA&gt;</td>\n      <td>315.030215</td>\n      <td>312.248671</td>\n      <td>473.804916</td>\n      <td>478.642924</td>\n      <td>367.064861</td>\n      <td>320.329602</td>\n      <td>...</td>\n      <td>495.939886</td>\n      <td>284.886953</td>\n      <td>394.311516</td>\n      <td>307.743943</td>\n      <td>282.363412</td>\n      <td>453.691162</td>\n      <td>374.195363</td>\n      <td>476.007024</td>\n      <td>0.391832</td>\n      <td>310.716693</td>\n    </tr>\n    <tr>\n      <th>1819</th>\n      <td>22.244281</td>\n      <td>1.860806</td>\n      <td>24.698623</td>\n      <td>18.271304</td>\n      <td>17.887166</td>\n      <td>22.94917</td>\n      <td>186.225114</td>\n      <td>182.784531</td>\n      <td>97.244579</td>\n      <td>11.234654</td>\n      <td>...</td>\n      <td>199.630171</td>\n      <td>20.261791</td>\n      <td>87.325908</td>\n      <td>19.813634</td>\n      <td>10.830552</td>\n      <td>137.812962</td>\n      <td>86.559507</td>\n      <td>151.267923</td>\n      <td>286.589017</td>\n      <td>0.358726</td>\n    </tr>\n  </tbody>\n</table>\n<p>722 rows × 722 columns</p>\n</div>"
     },
     "execution_count": 90,
     "metadata": {},
     "output_type": "execute_result"
    }
   ],
   "source": [
    "df1 = df_plb[df_plb.isnull().sum(axis=1) < 1084]\n",
    "df1 = df1[list(df1.index)]\n",
    "df1"
   ],
   "metadata": {
    "collapsed": false,
    "ExecuteTime": {
     "end_time": "2023-11-29T10:26:33.872990298Z",
     "start_time": "2023-11-29T10:26:33.545666131Z"
    }
   }
  },
  {
   "cell_type": "code",
   "execution_count": 91,
   "outputs": [
    {
     "data": {
      "text/plain": "466"
     },
     "execution_count": 91,
     "metadata": {},
     "output_type": "execute_result"
    }
   ],
   "source": [
    "df1.isna().sum().max()"
   ],
   "metadata": {
    "collapsed": false,
    "ExecuteTime": {
     "end_time": "2023-11-29T10:26:33.902978043Z",
     "start_time": "2023-11-29T10:26:33.777530911Z"
    }
   }
  },
  {
   "cell_type": "code",
   "execution_count": 92,
   "outputs": [
    {
     "data": {
      "text/plain": "            0           4           8           10          14          16    \\\n0       2.913954   29.505642   18.801541   19.191051    31.39236  191.378631   \n4      29.247761    11.09714    4.941659   32.642098   29.592434  254.398678   \n8      18.936559    4.392463     0.37252   19.467639   29.322996  249.306347   \n10     19.429173   31.476769   19.035095    1.558739   35.774497  199.050446   \n14      30.56668   28.814195   28.902356   34.563788    1.492159  248.976469   \n...          ...         ...         ...         ...         ...         ...   \n1809   17.004509   21.460963   15.359472   21.199179    28.35432  210.358917   \n1811  145.221231  154.458585  151.450426  147.750125  152.277354   198.03038   \n1813   86.363699  109.128806   96.722848  134.581554    99.75352  141.859283   \n1815  160.736795  187.745818  147.304155  167.621886  170.521891  214.002262   \n1819   22.244281   24.698623   18.271304   17.887166    22.94917  186.225114   \n\n            18          28          32          34    ...        1799  \\\n0     189.950013   87.314931   15.539913   10.656341  ...  136.391938   \n4     201.978211  129.799935   21.301142    20.49693  ...    164.8473   \n8     204.216303   93.678034    9.240315   21.714937  ...  144.292132   \n10    191.844434  166.372578   30.200747   18.570236  ...  138.299864   \n14    206.054343   96.671647   21.741862   24.170252  ...  150.506435   \n...          ...         ...         ...         ...  ...         ...   \n1809  186.181049   97.487742   11.706518   12.375446  ...  144.896892   \n1811  312.007895   71.735561  157.182623  148.054415  ...   20.775288   \n1813  250.889705   21.027011   92.292562   83.501548  ...   65.574167   \n1815  328.895353   72.028951  163.713078  162.562826  ...    3.974632   \n1819  182.784531   97.244579   11.234654    2.467647  ...  132.381076   \n\n            1801        1803        1805        1807        1809        1811  \\\n0     195.977178   16.727957   87.542701   16.142928   17.214772  145.187708   \n4     203.998412   12.196507  111.370319    5.079655    21.53743  181.758786   \n8      197.73808    5.315531   98.644062    0.791822   15.355092   151.36443   \n10     197.09052   27.753148  112.024551   21.858635   21.103499  143.259807   \n14    275.626986   28.104685   93.566142   38.413028     27.9931  152.035014   \n...          ...         ...         ...         ...         ...         ...   \n1809   185.88898   10.422117   97.884005   18.541682    0.323176    153.2332   \n1811  275.991919  162.418104   70.869337  150.919812  153.254686     0.15627   \n1813  205.191284   93.000125   11.861157   99.471062   92.990722   63.332708   \n1815  304.943209    182.0955   78.064285  180.690315  170.003573  313.834642   \n1819  199.630171   20.261791   87.325908   19.813634   10.830552  137.812962   \n\n            1813        1815        1819  \n0      86.253351  160.476427   22.406282  \n4       109.7656   187.73926   24.805953  \n8      96.687373  147.407936   18.230134  \n10    134.539447  167.516794   18.675375  \n14     99.689137   170.35415   22.839008  \n...          ...         ...         ...  \n1809   92.986052  170.016688   10.781093  \n1811   63.431075   17.446089  137.949303  \n1813    0.166431   83.828111   88.472277  \n1815    83.88138    0.073838  151.185795  \n1819   86.559507  151.267923    0.358726  \n\n[673 rows x 673 columns]",
      "text/html": "<div>\n<style scoped>\n    .dataframe tbody tr th:only-of-type {\n        vertical-align: middle;\n    }\n\n    .dataframe tbody tr th {\n        vertical-align: top;\n    }\n\n    .dataframe thead th {\n        text-align: right;\n    }\n</style>\n<table border=\"1\" class=\"dataframe\">\n  <thead>\n    <tr style=\"text-align: right;\">\n      <th></th>\n      <th>0</th>\n      <th>4</th>\n      <th>8</th>\n      <th>10</th>\n      <th>14</th>\n      <th>16</th>\n      <th>18</th>\n      <th>28</th>\n      <th>32</th>\n      <th>34</th>\n      <th>...</th>\n      <th>1799</th>\n      <th>1801</th>\n      <th>1803</th>\n      <th>1805</th>\n      <th>1807</th>\n      <th>1809</th>\n      <th>1811</th>\n      <th>1813</th>\n      <th>1815</th>\n      <th>1819</th>\n    </tr>\n  </thead>\n  <tbody>\n    <tr>\n      <th>0</th>\n      <td>2.913954</td>\n      <td>29.505642</td>\n      <td>18.801541</td>\n      <td>19.191051</td>\n      <td>31.39236</td>\n      <td>191.378631</td>\n      <td>189.950013</td>\n      <td>87.314931</td>\n      <td>15.539913</td>\n      <td>10.656341</td>\n      <td>...</td>\n      <td>136.391938</td>\n      <td>195.977178</td>\n      <td>16.727957</td>\n      <td>87.542701</td>\n      <td>16.142928</td>\n      <td>17.214772</td>\n      <td>145.187708</td>\n      <td>86.253351</td>\n      <td>160.476427</td>\n      <td>22.406282</td>\n    </tr>\n    <tr>\n      <th>4</th>\n      <td>29.247761</td>\n      <td>11.09714</td>\n      <td>4.941659</td>\n      <td>32.642098</td>\n      <td>29.592434</td>\n      <td>254.398678</td>\n      <td>201.978211</td>\n      <td>129.799935</td>\n      <td>21.301142</td>\n      <td>20.49693</td>\n      <td>...</td>\n      <td>164.8473</td>\n      <td>203.998412</td>\n      <td>12.196507</td>\n      <td>111.370319</td>\n      <td>5.079655</td>\n      <td>21.53743</td>\n      <td>181.758786</td>\n      <td>109.7656</td>\n      <td>187.73926</td>\n      <td>24.805953</td>\n    </tr>\n    <tr>\n      <th>8</th>\n      <td>18.936559</td>\n      <td>4.392463</td>\n      <td>0.37252</td>\n      <td>19.467639</td>\n      <td>29.322996</td>\n      <td>249.306347</td>\n      <td>204.216303</td>\n      <td>93.678034</td>\n      <td>9.240315</td>\n      <td>21.714937</td>\n      <td>...</td>\n      <td>144.292132</td>\n      <td>197.73808</td>\n      <td>5.315531</td>\n      <td>98.644062</td>\n      <td>0.791822</td>\n      <td>15.355092</td>\n      <td>151.36443</td>\n      <td>96.687373</td>\n      <td>147.407936</td>\n      <td>18.230134</td>\n    </tr>\n    <tr>\n      <th>10</th>\n      <td>19.429173</td>\n      <td>31.476769</td>\n      <td>19.035095</td>\n      <td>1.558739</td>\n      <td>35.774497</td>\n      <td>199.050446</td>\n      <td>191.844434</td>\n      <td>166.372578</td>\n      <td>30.200747</td>\n      <td>18.570236</td>\n      <td>...</td>\n      <td>138.299864</td>\n      <td>197.09052</td>\n      <td>27.753148</td>\n      <td>112.024551</td>\n      <td>21.858635</td>\n      <td>21.103499</td>\n      <td>143.259807</td>\n      <td>134.539447</td>\n      <td>167.516794</td>\n      <td>18.675375</td>\n    </tr>\n    <tr>\n      <th>14</th>\n      <td>30.56668</td>\n      <td>28.814195</td>\n      <td>28.902356</td>\n      <td>34.563788</td>\n      <td>1.492159</td>\n      <td>248.976469</td>\n      <td>206.054343</td>\n      <td>96.671647</td>\n      <td>21.741862</td>\n      <td>24.170252</td>\n      <td>...</td>\n      <td>150.506435</td>\n      <td>275.626986</td>\n      <td>28.104685</td>\n      <td>93.566142</td>\n      <td>38.413028</td>\n      <td>27.9931</td>\n      <td>152.035014</td>\n      <td>99.689137</td>\n      <td>170.35415</td>\n      <td>22.839008</td>\n    </tr>\n    <tr>\n      <th>...</th>\n      <td>...</td>\n      <td>...</td>\n      <td>...</td>\n      <td>...</td>\n      <td>...</td>\n      <td>...</td>\n      <td>...</td>\n      <td>...</td>\n      <td>...</td>\n      <td>...</td>\n      <td>...</td>\n      <td>...</td>\n      <td>...</td>\n      <td>...</td>\n      <td>...</td>\n      <td>...</td>\n      <td>...</td>\n      <td>...</td>\n      <td>...</td>\n      <td>...</td>\n      <td>...</td>\n    </tr>\n    <tr>\n      <th>1809</th>\n      <td>17.004509</td>\n      <td>21.460963</td>\n      <td>15.359472</td>\n      <td>21.199179</td>\n      <td>28.35432</td>\n      <td>210.358917</td>\n      <td>186.181049</td>\n      <td>97.487742</td>\n      <td>11.706518</td>\n      <td>12.375446</td>\n      <td>...</td>\n      <td>144.896892</td>\n      <td>185.88898</td>\n      <td>10.422117</td>\n      <td>97.884005</td>\n      <td>18.541682</td>\n      <td>0.323176</td>\n      <td>153.2332</td>\n      <td>92.986052</td>\n      <td>170.016688</td>\n      <td>10.781093</td>\n    </tr>\n    <tr>\n      <th>1811</th>\n      <td>145.221231</td>\n      <td>154.458585</td>\n      <td>151.450426</td>\n      <td>147.750125</td>\n      <td>152.277354</td>\n      <td>198.03038</td>\n      <td>312.007895</td>\n      <td>71.735561</td>\n      <td>157.182623</td>\n      <td>148.054415</td>\n      <td>...</td>\n      <td>20.775288</td>\n      <td>275.991919</td>\n      <td>162.418104</td>\n      <td>70.869337</td>\n      <td>150.919812</td>\n      <td>153.254686</td>\n      <td>0.15627</td>\n      <td>63.431075</td>\n      <td>17.446089</td>\n      <td>137.949303</td>\n    </tr>\n    <tr>\n      <th>1813</th>\n      <td>86.363699</td>\n      <td>109.128806</td>\n      <td>96.722848</td>\n      <td>134.581554</td>\n      <td>99.75352</td>\n      <td>141.859283</td>\n      <td>250.889705</td>\n      <td>21.027011</td>\n      <td>92.292562</td>\n      <td>83.501548</td>\n      <td>...</td>\n      <td>65.574167</td>\n      <td>205.191284</td>\n      <td>93.000125</td>\n      <td>11.861157</td>\n      <td>99.471062</td>\n      <td>92.990722</td>\n      <td>63.332708</td>\n      <td>0.166431</td>\n      <td>83.828111</td>\n      <td>88.472277</td>\n    </tr>\n    <tr>\n      <th>1815</th>\n      <td>160.736795</td>\n      <td>187.745818</td>\n      <td>147.304155</td>\n      <td>167.621886</td>\n      <td>170.521891</td>\n      <td>214.002262</td>\n      <td>328.895353</td>\n      <td>72.028951</td>\n      <td>163.713078</td>\n      <td>162.562826</td>\n      <td>...</td>\n      <td>3.974632</td>\n      <td>304.943209</td>\n      <td>182.0955</td>\n      <td>78.064285</td>\n      <td>180.690315</td>\n      <td>170.003573</td>\n      <td>313.834642</td>\n      <td>83.88138</td>\n      <td>0.073838</td>\n      <td>151.185795</td>\n    </tr>\n    <tr>\n      <th>1819</th>\n      <td>22.244281</td>\n      <td>24.698623</td>\n      <td>18.271304</td>\n      <td>17.887166</td>\n      <td>22.94917</td>\n      <td>186.225114</td>\n      <td>182.784531</td>\n      <td>97.244579</td>\n      <td>11.234654</td>\n      <td>2.467647</td>\n      <td>...</td>\n      <td>132.381076</td>\n      <td>199.630171</td>\n      <td>20.261791</td>\n      <td>87.325908</td>\n      <td>19.813634</td>\n      <td>10.830552</td>\n      <td>137.812962</td>\n      <td>86.559507</td>\n      <td>151.267923</td>\n      <td>0.358726</td>\n    </tr>\n  </tbody>\n</table>\n<p>673 rows × 673 columns</p>\n</div>"
     },
     "execution_count": 92,
     "metadata": {},
     "output_type": "execute_result"
    }
   ],
   "source": [
    "df2 = df1[df1.isnull().sum(axis=1) < 10]\n",
    "df2 = df2[list(df2.index)]\n",
    "df2"
   ],
   "metadata": {
    "collapsed": false,
    "ExecuteTime": {
     "end_time": "2023-11-29T10:26:33.968023307Z",
     "start_time": "2023-11-29T10:26:33.818918440Z"
    }
   }
  },
  {
   "cell_type": "code",
   "execution_count": 93,
   "outputs": [
    {
     "data": {
      "text/plain": "            0           4           8           10          14          16    \\\n0              0   58.753404     37.7381   38.620224    61.95904  382.748922   \n4      58.753404           0    9.334122   64.118867   58.406629  510.287636   \n8        37.7381    9.334122           0   38.502734   58.225352  506.221148   \n10     38.620224   64.118867   38.502734           0   70.338285  406.084158   \n14      61.95904   58.406629   58.225352   70.338285           0  497.882593   \n...          ...         ...         ...         ...         ...         ...   \n1809    34.21928   42.998393   30.714564   42.302678    56.34742  420.880811   \n1811   290.40894  336.217371  302.814857  291.009932  304.312368  403.434837   \n1813   172.61705  218.894406  193.410221  269.121001  199.442657  284.514238   \n1815  321.213222  375.485078  294.712092  335.138681  340.876041  432.567119   \n1819   44.650563   49.504576   36.501438   36.562542   45.788177  370.485955   \n\n            18          28          32          34    ...        1799  \\\n0     379.978861  174.857152   31.065741   21.477687  ...  271.331891   \n4     402.455577  259.320557   42.525406   40.899082  ...  328.861231   \n8     407.954283  187.378382   18.451601   41.337032  ...  288.560848   \n10    387.505961  333.242231   60.815649   37.379518  ...  276.436421   \n14    418.388432  208.521983   43.758612   48.610748  ...  301.026095   \n...          ...         ...         ...         ...  ...         ...   \n1809  371.940952  195.013845   23.449868   24.743231  ...  289.875094   \n1811  623.639671  143.457319  314.354499  296.174431  ...   41.456818   \n1813  502.378512   42.115798  184.677684   196.08463  ...  131.222261   \n1815  657.605991  144.214503   327.42466  325.109057  ...    7.991953   \n1819  365.504432  194.620306    22.56374    5.025132  ...  264.658998   \n\n            1801        1803        1805        1807        1809        1811  \\\n0     391.057784   33.199512    174.9268   32.229541    34.21928   290.40894   \n4      407.73298   24.200211  222.572457    42.50169   42.998393  336.217371   \n8     395.980966   10.587644  197.327322    1.729967   30.714564  302.814857   \n10    394.611483   55.459561  224.160272    43.77161   42.302678  291.009932   \n14    557.478839   56.288639  187.290054   76.982843    56.34742  304.312368   \n...          ...         ...         ...         ...         ...         ...   \n1809  371.844858   20.772921  195.794318   37.104809           0  306.487886   \n1811  551.885274  324.809914  141.680924  301.746185  306.487886           0   \n1813   410.39043  185.902623   23.780437  198.965092  185.976774  126.763783   \n1815  609.917977  364.152132  156.133016  361.398797  340.020261  331.280731   \n1819  399.071845   40.387216  174.693285   39.659297   21.611645  275.762265   \n\n            1813        1815        1819  \n0      172.61705  321.213222   44.650563  \n4     218.894406  375.485078   49.504576  \n8     193.410221  294.712092   36.501438  \n10    269.121001  335.138681   36.562542  \n14    199.442657  340.876041   45.788177  \n...          ...         ...         ...  \n1809  185.976774  340.020261   21.611645  \n1811  126.763783  331.280731  275.762265  \n1813           0  167.709491  175.031785  \n1815  167.709491           0  302.453718  \n1819  175.031785  302.453718           0  \n\n[673 rows x 673 columns]",
      "text/html": "<div>\n<style scoped>\n    .dataframe tbody tr th:only-of-type {\n        vertical-align: middle;\n    }\n\n    .dataframe tbody tr th {\n        vertical-align: top;\n    }\n\n    .dataframe thead th {\n        text-align: right;\n    }\n</style>\n<table border=\"1\" class=\"dataframe\">\n  <thead>\n    <tr style=\"text-align: right;\">\n      <th></th>\n      <th>0</th>\n      <th>4</th>\n      <th>8</th>\n      <th>10</th>\n      <th>14</th>\n      <th>16</th>\n      <th>18</th>\n      <th>28</th>\n      <th>32</th>\n      <th>34</th>\n      <th>...</th>\n      <th>1799</th>\n      <th>1801</th>\n      <th>1803</th>\n      <th>1805</th>\n      <th>1807</th>\n      <th>1809</th>\n      <th>1811</th>\n      <th>1813</th>\n      <th>1815</th>\n      <th>1819</th>\n    </tr>\n  </thead>\n  <tbody>\n    <tr>\n      <th>0</th>\n      <td>0</td>\n      <td>58.753404</td>\n      <td>37.7381</td>\n      <td>38.620224</td>\n      <td>61.95904</td>\n      <td>382.748922</td>\n      <td>379.978861</td>\n      <td>174.857152</td>\n      <td>31.065741</td>\n      <td>21.477687</td>\n      <td>...</td>\n      <td>271.331891</td>\n      <td>391.057784</td>\n      <td>33.199512</td>\n      <td>174.9268</td>\n      <td>32.229541</td>\n      <td>34.21928</td>\n      <td>290.40894</td>\n      <td>172.61705</td>\n      <td>321.213222</td>\n      <td>44.650563</td>\n    </tr>\n    <tr>\n      <th>4</th>\n      <td>58.753404</td>\n      <td>0</td>\n      <td>9.334122</td>\n      <td>64.118867</td>\n      <td>58.406629</td>\n      <td>510.287636</td>\n      <td>402.455577</td>\n      <td>259.320557</td>\n      <td>42.525406</td>\n      <td>40.899082</td>\n      <td>...</td>\n      <td>328.861231</td>\n      <td>407.73298</td>\n      <td>24.200211</td>\n      <td>222.572457</td>\n      <td>42.50169</td>\n      <td>42.998393</td>\n      <td>336.217371</td>\n      <td>218.894406</td>\n      <td>375.485078</td>\n      <td>49.504576</td>\n    </tr>\n    <tr>\n      <th>8</th>\n      <td>37.7381</td>\n      <td>9.334122</td>\n      <td>0</td>\n      <td>38.502734</td>\n      <td>58.225352</td>\n      <td>506.221148</td>\n      <td>407.954283</td>\n      <td>187.378382</td>\n      <td>18.451601</td>\n      <td>41.337032</td>\n      <td>...</td>\n      <td>288.560848</td>\n      <td>395.980966</td>\n      <td>10.587644</td>\n      <td>197.327322</td>\n      <td>1.729967</td>\n      <td>30.714564</td>\n      <td>302.814857</td>\n      <td>193.410221</td>\n      <td>294.712092</td>\n      <td>36.501438</td>\n    </tr>\n    <tr>\n      <th>10</th>\n      <td>38.620224</td>\n      <td>64.118867</td>\n      <td>38.502734</td>\n      <td>0</td>\n      <td>70.338285</td>\n      <td>406.084158</td>\n      <td>387.505961</td>\n      <td>333.242231</td>\n      <td>60.815649</td>\n      <td>37.379518</td>\n      <td>...</td>\n      <td>276.436421</td>\n      <td>394.611483</td>\n      <td>55.459561</td>\n      <td>224.160272</td>\n      <td>43.77161</td>\n      <td>42.302678</td>\n      <td>291.009932</td>\n      <td>269.121001</td>\n      <td>335.138681</td>\n      <td>36.562542</td>\n    </tr>\n    <tr>\n      <th>14</th>\n      <td>61.95904</td>\n      <td>58.406629</td>\n      <td>58.225352</td>\n      <td>70.338285</td>\n      <td>0</td>\n      <td>497.882593</td>\n      <td>418.388432</td>\n      <td>208.521983</td>\n      <td>43.758612</td>\n      <td>48.610748</td>\n      <td>...</td>\n      <td>301.026095</td>\n      <td>557.478839</td>\n      <td>56.288639</td>\n      <td>187.290054</td>\n      <td>76.982843</td>\n      <td>56.34742</td>\n      <td>304.312368</td>\n      <td>199.442657</td>\n      <td>340.876041</td>\n      <td>45.788177</td>\n    </tr>\n    <tr>\n      <th>...</th>\n      <td>...</td>\n      <td>...</td>\n      <td>...</td>\n      <td>...</td>\n      <td>...</td>\n      <td>...</td>\n      <td>...</td>\n      <td>...</td>\n      <td>...</td>\n      <td>...</td>\n      <td>...</td>\n      <td>...</td>\n      <td>...</td>\n      <td>...</td>\n      <td>...</td>\n      <td>...</td>\n      <td>...</td>\n      <td>...</td>\n      <td>...</td>\n      <td>...</td>\n      <td>...</td>\n    </tr>\n    <tr>\n      <th>1809</th>\n      <td>34.21928</td>\n      <td>42.998393</td>\n      <td>30.714564</td>\n      <td>42.302678</td>\n      <td>56.34742</td>\n      <td>420.880811</td>\n      <td>371.940952</td>\n      <td>195.013845</td>\n      <td>23.449868</td>\n      <td>24.743231</td>\n      <td>...</td>\n      <td>289.875094</td>\n      <td>371.844858</td>\n      <td>20.772921</td>\n      <td>195.794318</td>\n      <td>37.104809</td>\n      <td>0</td>\n      <td>306.487886</td>\n      <td>185.976774</td>\n      <td>340.020261</td>\n      <td>21.611645</td>\n    </tr>\n    <tr>\n      <th>1811</th>\n      <td>290.40894</td>\n      <td>336.217371</td>\n      <td>302.814857</td>\n      <td>291.009932</td>\n      <td>304.312368</td>\n      <td>403.434837</td>\n      <td>623.639671</td>\n      <td>143.457319</td>\n      <td>314.354499</td>\n      <td>296.174431</td>\n      <td>...</td>\n      <td>41.456818</td>\n      <td>551.885274</td>\n      <td>324.809914</td>\n      <td>141.680924</td>\n      <td>301.746185</td>\n      <td>306.487886</td>\n      <td>0</td>\n      <td>126.763783</td>\n      <td>331.280731</td>\n      <td>275.762265</td>\n    </tr>\n    <tr>\n      <th>1813</th>\n      <td>172.61705</td>\n      <td>218.894406</td>\n      <td>193.410221</td>\n      <td>269.121001</td>\n      <td>199.442657</td>\n      <td>284.514238</td>\n      <td>502.378512</td>\n      <td>42.115798</td>\n      <td>184.677684</td>\n      <td>196.08463</td>\n      <td>...</td>\n      <td>131.222261</td>\n      <td>410.39043</td>\n      <td>185.902623</td>\n      <td>23.780437</td>\n      <td>198.965092</td>\n      <td>185.976774</td>\n      <td>126.763783</td>\n      <td>0</td>\n      <td>167.709491</td>\n      <td>175.031785</td>\n    </tr>\n    <tr>\n      <th>1815</th>\n      <td>321.213222</td>\n      <td>375.485078</td>\n      <td>294.712092</td>\n      <td>335.138681</td>\n      <td>340.876041</td>\n      <td>432.567119</td>\n      <td>657.605991</td>\n      <td>144.214503</td>\n      <td>327.42466</td>\n      <td>325.109057</td>\n      <td>...</td>\n      <td>7.991953</td>\n      <td>609.917977</td>\n      <td>364.152132</td>\n      <td>156.133016</td>\n      <td>361.398797</td>\n      <td>340.020261</td>\n      <td>331.280731</td>\n      <td>167.709491</td>\n      <td>0</td>\n      <td>302.453718</td>\n    </tr>\n    <tr>\n      <th>1819</th>\n      <td>44.650563</td>\n      <td>49.504576</td>\n      <td>36.501438</td>\n      <td>36.562542</td>\n      <td>45.788177</td>\n      <td>370.485955</td>\n      <td>365.504432</td>\n      <td>194.620306</td>\n      <td>22.56374</td>\n      <td>5.025132</td>\n      <td>...</td>\n      <td>264.658998</td>\n      <td>399.071845</td>\n      <td>40.387216</td>\n      <td>174.693285</td>\n      <td>39.659297</td>\n      <td>21.611645</td>\n      <td>275.762265</td>\n      <td>175.031785</td>\n      <td>302.453718</td>\n      <td>0</td>\n    </tr>\n  </tbody>\n</table>\n<p>673 rows × 673 columns</p>\n</div>"
     },
     "execution_count": 93,
     "metadata": {},
     "output_type": "execute_result"
    }
   ],
   "source": [
    "for i in list(df2.index):\n",
    "    df2.at[i, i] = 0\n",
    "\n",
    "# Make the DataFrame symmetric\n",
    "df2 = df2 + df2.T - np.diag(df2.values.diagonal())\n",
    "df2"
   ],
   "metadata": {
    "collapsed": false,
    "ExecuteTime": {
     "end_time": "2023-11-29T10:26:34.116761699Z",
     "start_time": "2023-11-29T10:26:33.889825058Z"
    }
   }
  },
  {
   "cell_type": "code",
   "execution_count": 95,
   "outputs": [
    {
     "data": {
      "text/plain": "      0     4     8     10    14    16    18    28    32    34    ...  1799  \\\n0        0    58    37    38    61   382   379   174    31    21  ...   271   \n4       58     0     9    64    58   510   402   259    42    40  ...   328   \n8       37     9     0    38    58   506   407   187    18    41  ...   288   \n10      38    64    38     0    70   406   387   333    60    37  ...   276   \n14      61    58    58    70     0   497   418   208    43    48  ...   301   \n...    ...   ...   ...   ...   ...   ...   ...   ...   ...   ...  ...   ...   \n1809    34    42    30    42    56   420   371   195    23    24  ...   289   \n1811   290   336   302   291   304   403   623   143   314   296  ...    41   \n1813   172   218   193   269   199   284   502    42   184   196  ...   131   \n1815   321   375   294   335   340   432   657   144   327   325  ...     7   \n1819    44    49    36    36    45   370   365   194    22     5  ...   264   \n\n      1801  1803  1805  1807  1809  1811  1813  1815  1819  \n0      391    33   174    32    34   290   172   321    44  \n4      407    24   222    42    42   336   218   375    49  \n8      395    10   197     1    30   302   193   294    36  \n10     394    55   224    43    42   291   269   335    36  \n14     557    56   187    76    56   304   199   340    45  \n...    ...   ...   ...   ...   ...   ...   ...   ...   ...  \n1809   371    20   195    37     0   306   185   340    21  \n1811   551   324   141   301   306     0   126   331   275  \n1813   410   185    23   198   185   126     0   167   175  \n1815   609   364   156   361   340   331   167     0   302  \n1819   399    40   174    39    21   275   175   302     0  \n\n[673 rows x 673 columns]",
      "text/html": "<div>\n<style scoped>\n    .dataframe tbody tr th:only-of-type {\n        vertical-align: middle;\n    }\n\n    .dataframe tbody tr th {\n        vertical-align: top;\n    }\n\n    .dataframe thead th {\n        text-align: right;\n    }\n</style>\n<table border=\"1\" class=\"dataframe\">\n  <thead>\n    <tr style=\"text-align: right;\">\n      <th></th>\n      <th>0</th>\n      <th>4</th>\n      <th>8</th>\n      <th>10</th>\n      <th>14</th>\n      <th>16</th>\n      <th>18</th>\n      <th>28</th>\n      <th>32</th>\n      <th>34</th>\n      <th>...</th>\n      <th>1799</th>\n      <th>1801</th>\n      <th>1803</th>\n      <th>1805</th>\n      <th>1807</th>\n      <th>1809</th>\n      <th>1811</th>\n      <th>1813</th>\n      <th>1815</th>\n      <th>1819</th>\n    </tr>\n  </thead>\n  <tbody>\n    <tr>\n      <th>0</th>\n      <td>0</td>\n      <td>58</td>\n      <td>37</td>\n      <td>38</td>\n      <td>61</td>\n      <td>382</td>\n      <td>379</td>\n      <td>174</td>\n      <td>31</td>\n      <td>21</td>\n      <td>...</td>\n      <td>271</td>\n      <td>391</td>\n      <td>33</td>\n      <td>174</td>\n      <td>32</td>\n      <td>34</td>\n      <td>290</td>\n      <td>172</td>\n      <td>321</td>\n      <td>44</td>\n    </tr>\n    <tr>\n      <th>4</th>\n      <td>58</td>\n      <td>0</td>\n      <td>9</td>\n      <td>64</td>\n      <td>58</td>\n      <td>510</td>\n      <td>402</td>\n      <td>259</td>\n      <td>42</td>\n      <td>40</td>\n      <td>...</td>\n      <td>328</td>\n      <td>407</td>\n      <td>24</td>\n      <td>222</td>\n      <td>42</td>\n      <td>42</td>\n      <td>336</td>\n      <td>218</td>\n      <td>375</td>\n      <td>49</td>\n    </tr>\n    <tr>\n      <th>8</th>\n      <td>37</td>\n      <td>9</td>\n      <td>0</td>\n      <td>38</td>\n      <td>58</td>\n      <td>506</td>\n      <td>407</td>\n      <td>187</td>\n      <td>18</td>\n      <td>41</td>\n      <td>...</td>\n      <td>288</td>\n      <td>395</td>\n      <td>10</td>\n      <td>197</td>\n      <td>1</td>\n      <td>30</td>\n      <td>302</td>\n      <td>193</td>\n      <td>294</td>\n      <td>36</td>\n    </tr>\n    <tr>\n      <th>10</th>\n      <td>38</td>\n      <td>64</td>\n      <td>38</td>\n      <td>0</td>\n      <td>70</td>\n      <td>406</td>\n      <td>387</td>\n      <td>333</td>\n      <td>60</td>\n      <td>37</td>\n      <td>...</td>\n      <td>276</td>\n      <td>394</td>\n      <td>55</td>\n      <td>224</td>\n      <td>43</td>\n      <td>42</td>\n      <td>291</td>\n      <td>269</td>\n      <td>335</td>\n      <td>36</td>\n    </tr>\n    <tr>\n      <th>14</th>\n      <td>61</td>\n      <td>58</td>\n      <td>58</td>\n      <td>70</td>\n      <td>0</td>\n      <td>497</td>\n      <td>418</td>\n      <td>208</td>\n      <td>43</td>\n      <td>48</td>\n      <td>...</td>\n      <td>301</td>\n      <td>557</td>\n      <td>56</td>\n      <td>187</td>\n      <td>76</td>\n      <td>56</td>\n      <td>304</td>\n      <td>199</td>\n      <td>340</td>\n      <td>45</td>\n    </tr>\n    <tr>\n      <th>...</th>\n      <td>...</td>\n      <td>...</td>\n      <td>...</td>\n      <td>...</td>\n      <td>...</td>\n      <td>...</td>\n      <td>...</td>\n      <td>...</td>\n      <td>...</td>\n      <td>...</td>\n      <td>...</td>\n      <td>...</td>\n      <td>...</td>\n      <td>...</td>\n      <td>...</td>\n      <td>...</td>\n      <td>...</td>\n      <td>...</td>\n      <td>...</td>\n      <td>...</td>\n      <td>...</td>\n    </tr>\n    <tr>\n      <th>1809</th>\n      <td>34</td>\n      <td>42</td>\n      <td>30</td>\n      <td>42</td>\n      <td>56</td>\n      <td>420</td>\n      <td>371</td>\n      <td>195</td>\n      <td>23</td>\n      <td>24</td>\n      <td>...</td>\n      <td>289</td>\n      <td>371</td>\n      <td>20</td>\n      <td>195</td>\n      <td>37</td>\n      <td>0</td>\n      <td>306</td>\n      <td>185</td>\n      <td>340</td>\n      <td>21</td>\n    </tr>\n    <tr>\n      <th>1811</th>\n      <td>290</td>\n      <td>336</td>\n      <td>302</td>\n      <td>291</td>\n      <td>304</td>\n      <td>403</td>\n      <td>623</td>\n      <td>143</td>\n      <td>314</td>\n      <td>296</td>\n      <td>...</td>\n      <td>41</td>\n      <td>551</td>\n      <td>324</td>\n      <td>141</td>\n      <td>301</td>\n      <td>306</td>\n      <td>0</td>\n      <td>126</td>\n      <td>331</td>\n      <td>275</td>\n    </tr>\n    <tr>\n      <th>1813</th>\n      <td>172</td>\n      <td>218</td>\n      <td>193</td>\n      <td>269</td>\n      <td>199</td>\n      <td>284</td>\n      <td>502</td>\n      <td>42</td>\n      <td>184</td>\n      <td>196</td>\n      <td>...</td>\n      <td>131</td>\n      <td>410</td>\n      <td>185</td>\n      <td>23</td>\n      <td>198</td>\n      <td>185</td>\n      <td>126</td>\n      <td>0</td>\n      <td>167</td>\n      <td>175</td>\n    </tr>\n    <tr>\n      <th>1815</th>\n      <td>321</td>\n      <td>375</td>\n      <td>294</td>\n      <td>335</td>\n      <td>340</td>\n      <td>432</td>\n      <td>657</td>\n      <td>144</td>\n      <td>327</td>\n      <td>325</td>\n      <td>...</td>\n      <td>7</td>\n      <td>609</td>\n      <td>364</td>\n      <td>156</td>\n      <td>361</td>\n      <td>340</td>\n      <td>331</td>\n      <td>167</td>\n      <td>0</td>\n      <td>302</td>\n    </tr>\n    <tr>\n      <th>1819</th>\n      <td>44</td>\n      <td>49</td>\n      <td>36</td>\n      <td>36</td>\n      <td>45</td>\n      <td>370</td>\n      <td>365</td>\n      <td>194</td>\n      <td>22</td>\n      <td>5</td>\n      <td>...</td>\n      <td>264</td>\n      <td>399</td>\n      <td>40</td>\n      <td>174</td>\n      <td>39</td>\n      <td>21</td>\n      <td>275</td>\n      <td>175</td>\n      <td>302</td>\n      <td>0</td>\n    </tr>\n  </tbody>\n</table>\n<p>673 rows × 673 columns</p>\n</div>"
     },
     "execution_count": 95,
     "metadata": {},
     "output_type": "execute_result"
    }
   ],
   "source": [
    "df3 = df2.fillna(1)\n",
    "df3 = df3.astype(int)\n",
    "df3"
   ],
   "metadata": {
    "collapsed": false,
    "ExecuteTime": {
     "end_time": "2023-11-29T10:27:32.086291403Z",
     "start_time": "2023-11-29T10:27:31.991531577Z"
    }
   }
  }
 ],
 "metadata": {
  "kernelspec": {
   "name": "python3",
   "language": "python",
   "display_name": "Python 3"
  },
  "language_info": {
   "codemirror_mode": {
    "name": "ipython",
    "version": 3
   },
   "file_extension": ".py",
   "mimetype": "text/x-python",
   "name": "python",
   "nbconvert_exporter": "python",
   "pygments_lexer": "ipython3",
   "version": "3.7.6"
  }
 },
 "nbformat": 4,
 "nbformat_minor": 1
}
