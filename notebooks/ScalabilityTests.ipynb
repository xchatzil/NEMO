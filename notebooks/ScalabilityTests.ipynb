{
 "cells": [
  {
   "cell_type": "code",
   "execution_count": 1,
   "metadata": {
    "collapsed": true,
    "ExecuteTime": {
     "end_time": "2023-08-01T16:18:14.040156967Z",
     "start_time": "2023-08-01T16:18:13.894377985Z"
    }
   },
   "outputs": [],
   "source": [
    "%load_ext autoreload\n",
    "%autoreload 2\n",
    "import numpy as np\n",
    "import numpy.random as rd\n",
    "from sklearn.cluster import KMeans\n",
    "from sklearn.metrics import silhouette_score\n",
    "from topology import get_lognorm_hist, setup_topology\n",
    "from resource_reassignment import get_cluster_heads\n",
    "import random\n",
    "import timeit\n",
    "import statistics\n",
    "import matplotlib.pyplot as plt\n",
    "from matplotlib.ticker import FuncFormatter\n",
    "from leach import LeachSolver\n",
    "from mst_prim import prim_mst\n",
    "from nemo import NemoSolver\n",
    "import seaborn as sns"
   ]
  },
  {
   "cell_type": "markdown",
   "source": [
    "#### Topology Setup"
   ],
   "metadata": {
    "collapsed": false
   }
  },
  {
   "cell_type": "code",
   "execution_count": 2,
   "outputs": [],
   "source": [
    "seed = 4\n",
    "np.random.seed(seed)\n",
    "avg = 50\n",
    "\n",
    "X_dim_range = [0, 100]\n",
    "Y_dim_range = [-50, 50]\n",
    "X_dim = [-10, 110]\n",
    "Y_dim = [-60, 60]\n",
    "\n",
    "H, bins = get_lognorm_hist()"
   ],
   "metadata": {
    "collapsed": false,
    "ExecuteTime": {
     "end_time": "2023-08-01T16:18:15.765822016Z",
     "start_time": "2023-08-01T16:18:15.726299831Z"
    }
   }
  },
  {
   "cell_type": "code",
   "execution_count": 4,
   "outputs": [],
   "source": [
    "# assign nodes to previous clustering alg\n",
    "sil = []\n",
    "kmin = 2  #max(2, centers - 5)\n",
    "kmax = 30  #centers + 5\n",
    "kseed = 20\n",
    "\n",
    "iterations = 100\n",
    "slot_col = \"capacity_100\"\n",
    "W = 80\n",
    "L = 100\n",
    "\n",
    "runs = 1\n",
    "opt_k = 0\n",
    "topology_sizes = [100, 1000, 10000, 100000, 500000, 1000000]\n",
    "c_capacity = 100"
   ],
   "metadata": {
    "collapsed": false,
    "ExecuteTime": {
     "end_time": "2023-08-01T16:18:31.726146534Z",
     "start_time": "2023-08-01T16:18:31.686913338Z"
    }
   }
  },
  {
   "cell_type": "code",
   "execution_count": 5,
   "outputs": [],
   "source": [
    "topologies = []\n",
    "for tsize in topology_sizes:\n",
    "    device_number = tsize + 1\n",
    "    max_resources = device_number*avg - 100\n",
    "    centers = int(max(0.01*tsize, 40))\n",
    "    prim_df, coords, c_coords, slot_columns, sums = setup_topology(H, max_resources, c_capacity, centers, X_dim_range, Y_dim_range, device_number-1, seed)\n",
    "    topologies.append((tsize, prim_df, coords))"
   ],
   "metadata": {
    "collapsed": false,
    "ExecuteTime": {
     "end_time": "2023-08-01T16:18:42.685309837Z",
     "start_time": "2023-08-01T16:18:32.685987057Z"
    }
   }
  },
  {
   "cell_type": "markdown",
   "source": [
    "## NEMO"
   ],
   "metadata": {
    "collapsed": false
   }
  },
  {
   "cell_type": "code",
   "execution_count": 12,
   "outputs": [
    {
     "ename": "NameError",
     "evalue": "name 'topologies' is not defined",
     "output_type": "error",
     "traceback": [
      "\u001B[0;31m---------------------------------------------------------------------------\u001B[0m",
      "\u001B[0;31mNameError\u001B[0m                                 Traceback (most recent call last)",
      "Cell \u001B[0;32mIn[12], line 4\u001B[0m\n\u001B[1;32m      1\u001B[0m nemo_full \u001B[38;5;241m=\u001B[39m []\n\u001B[1;32m      2\u001B[0m nemo_re \u001B[38;5;241m=\u001B[39m []\n\u001B[0;32m----> 4\u001B[0m \u001B[38;5;28;01mfor\u001B[39;00m tsize, prim_df, coords \u001B[38;5;129;01min\u001B[39;00m \u001B[43mtopologies\u001B[49m:\n\u001B[1;32m      5\u001B[0m     tmp_full \u001B[38;5;241m=\u001B[39m []\n\u001B[1;32m      6\u001B[0m     tmp_re \u001B[38;5;241m=\u001B[39m []\n",
      "\u001B[0;31mNameError\u001B[0m: name 'topologies' is not defined"
     ]
    }
   ],
   "source": [
    "nemo_full = []\n",
    "nemo_re = []\n",
    "\n",
    "for tsize, prim_df, coords in topologies:\n",
    "    tmp_full = []\n",
    "    tmp_re = []\n",
    "\n",
    "    print(\"Preprocessing \", tsize)\n",
    "    if tsize >= 50:\n",
    "        if tsize >= 1000:\n",
    "            kmin = 15\n",
    "            kmax = 25\n",
    "        # pre-processing only necessary for large topologies\n",
    "        # identify opt k based on sil\n",
    "        if tsize <= 1000:\n",
    "            for k in range(kmin, kmax + 1):\n",
    "                kmeans = KMeans(n_clusters=k, n_init='auto', random_state=kseed).fit(coords)\n",
    "                labels = kmeans.labels_\n",
    "                sil.append(silhouette_score(coords, labels, metric='euclidean'))\n",
    "            opt_k = np.argmax(sil)\n",
    "            opt_k = kmin + opt_k\n",
    "\n",
    "        # calc kmeans with opt k\n",
    "        print(\"Running kmeans with \", opt_k)\n",
    "        cluster_alg = KMeans(n_clusters=opt_k, n_init='auto').fit(coords)\n",
    "        labels = cluster_alg.labels_\n",
    "        centroids = cluster_alg.cluster_centers_\n",
    "        prim_df[\"cluster\"] = labels\n",
    "        prim_df.loc[0, \"cluster\"] = -1\n",
    "    else:\n",
    "        prim_df[\"cluster\"] = 0\n",
    "        prim_df.loc[0, \"cluster\"] = -1\n",
    "\n",
    "    for run in range(0, runs):\n",
    "        print(\"Run \", tsize, \": \", run, \"/\", runs)\n",
    "        start_time = timeit.default_timer()\n",
    "        # calc full placement\n",
    "        slot_col = \"capacity_100\"\n",
    "        print(\"Starting nemo for \", slot_col)\n",
    "        nemo = NemoSolver(prim_df, coords, W, L)\n",
    "        agg_dict, path_dict, df_nemo = nemo.nemo(False, slot_col, iterations)\n",
    "        elapsed = timeit.default_timer() - start_time\n",
    "        tmp_full.append(elapsed)\n",
    "\n",
    "        # re-placement\n",
    "        # take a random cluster head to be replaced\n",
    "        print(\"Recalc\")\n",
    "        cluster_idx = agg_dict[random.randint(0, len(agg_dict)-1)][0]\n",
    "        av_slots = df_nemo.iloc[cluster_idx][\"free_slots\"]\n",
    "        required_slots = df_nemo.iloc[cluster_idx][slot_col]\n",
    "        # recompute\n",
    "        start_time = timeit.default_timer()\n",
    "        cluster_idxs = get_cluster_heads(df_nemo, \"free_slots\", cluster_idx, av_slots, required_slots)\n",
    "        elapsed = timeit.default_timer() - start_time\n",
    "        tmp_re.append(elapsed)\n",
    "\n",
    "    # calc the mean of all runs\n",
    "    nemo_full.append(statistics.mean(tmp_full))\n",
    "    nemo_re.append(statistics.mean(tmp_re))\n",
    "\n",
    "print(\"Full runs:\", nemo_full)\n",
    "print(\"Re-assignment:\", nemo_re)"
   ],
   "metadata": {
    "collapsed": false,
    "ExecuteTime": {
     "end_time": "2023-08-01T12:28:12.609909132Z",
     "start_time": "2023-08-01T12:28:12.544259011Z"
    }
   }
  },
  {
   "cell_type": "markdown",
   "source": [
    "## LEACH"
   ],
   "metadata": {
    "collapsed": false
   }
  },
  {
   "cell_type": "code",
   "execution_count": 49,
   "outputs": [
    {
     "name": "stdout",
     "output_type": "stream",
     "text": [
      "LEACH run with size 100\n",
      "LEACH run with size 1000\n",
      "LEACH run with size 10000\n",
      "LEACH run with size 100000\n",
      "LEACH run with size 500000\n",
      "LEACH run with size 1000000\n"
     ]
    }
   ],
   "source": [
    "leach_full = []\n",
    "\n",
    "for tsize, prim_df, coords in topologies:\n",
    "    print(\"LEACH run with size\", tsize)\n",
    "    no_centroids = int(tsize * 0.1)\n",
    "\n",
    "    leachSolver = LeachSolver(prim_df, no_centroids, coords, seed=seed)\n",
    "    start_time = timeit.default_timer()\n",
    "    leach_labels, ch_indexes, latency_hist, received_packets_hist = leachSolver.leachClustering()\n",
    "    elapsed = timeit.default_timer() - start_time\n",
    "    leach_full.append(elapsed)"
   ],
   "metadata": {
    "collapsed": false,
    "ExecuteTime": {
     "end_time": "2023-07-27T08:32:25.055572436Z",
     "start_time": "2023-07-27T08:24:49.435441863Z"
    }
   }
  },
  {
   "cell_type": "code",
   "execution_count": 50,
   "outputs": [
    {
     "data": {
      "text/plain": "[0.03354996000052779,\n 0.3120724059999702,\n 3.0932921789999455,\n 29.595716148000065,\n 146.82815027300057,\n 275.6718253019999]"
     },
     "execution_count": 50,
     "metadata": {},
     "output_type": "execute_result"
    }
   ],
   "source": [
    "leach_full"
   ],
   "metadata": {
    "collapsed": false,
    "ExecuteTime": {
     "end_time": "2023-07-27T08:32:25.099819323Z",
     "start_time": "2023-07-27T08:32:25.099287339Z"
    }
   }
  },
  {
   "cell_type": "markdown",
   "source": [
    "## MST"
   ],
   "metadata": {
    "collapsed": false
   }
  },
  {
   "cell_type": "code",
   "execution_count": null,
   "outputs": [
    {
     "name": "stdout",
     "output_type": "stream",
     "text": [
      "MST run with size 100\n",
      "Time with 100 : 0.021984475000863313\n",
      "MST run with size 1000\n",
      "Time with 1000 : 1.70713769699978\n",
      "MST run with size 10000\n",
      "Time with 10000 : 349.2534674090002\n",
      "MST run with size 100000\n"
     ]
    }
   ],
   "source": [
    "mst_full = []\n",
    "\n",
    "for tsize in topology_sizes:\n",
    "    print(\"MST run with size\", tsize)\n",
    "    no_centroids = int(tsize * 0.1)\n",
    "    device_number = tsize + 1\n",
    "    max_resources = device_number*avg - 100\n",
    "    c_capacity = 100\n",
    "    prim_df, coords, c_coords, slot_columns, sums = setup_topology(H, max_resources, c_capacity, no_centroids, X_dim_range, Y_dim_range, device_number-1, seed)\n",
    "\n",
    "    start_time = timeit.default_timer()\n",
    "    mst = prim_mst(coords)\n",
    "    elapsed = timeit.default_timer() - start_time\n",
    "    print(\"Time with\", tsize, \":\", elapsed)\n",
    "    mst_full.append(elapsed)"
   ],
   "metadata": {
    "collapsed": false,
    "is_executing": true,
    "ExecuteTime": {
     "start_time": "2023-07-27T09:31:20.964663905Z"
    }
   }
  },
  {
   "cell_type": "code",
   "execution_count": null,
   "outputs": [],
   "source": [
    "mst_full"
   ],
   "metadata": {
    "collapsed": false,
    "is_executing": true
   }
  },
  {
   "cell_type": "markdown",
   "source": [
    "## Plotting Results"
   ],
   "metadata": {
    "collapsed": false
   }
  },
  {
   "cell_type": "code",
   "execution_count": 6,
   "outputs": [],
   "source": [
    "full_opt_nemo = [0.1079521339997882, 0.622427074999905, 5.664643757999784, 59.286709083000005, 269.86223116500014, 570.7745339570006]\n",
    "re_opt_nemo = [0.0025799939999160415, 0.0016037149998737732, 0.0018865340002776065, 0.0028179860000818735, 0.006405561000065063, 0.014996855000390497]\n",
    "\n",
    "opt_leach = [0.03354996000052779, 0.3120724059999702, 3.0932921789999455, 29.595716148000065, 146.82815027300057, 275.6718253019999]\n",
    "\n",
    "opt_mst = [0.021984475000863313, 1.70713769699978, 349.2534674090002, np.nan, np.nan, np.nan]\n",
    "opt_card = [975, np.nan, np.nan, np.nan, np.nan, np.nan]\n",
    "\n",
    "approaches = {\n",
    "    \"nemo full-optimization\": full_opt_nemo,\n",
    "    \"nemo re-optimization\": re_opt_nemo,\n",
    "    \"leach\": opt_leach,\n",
    "    \"mst\": opt_mst,\n",
    "    \"optimal\": opt_card\n",
    "}\n",
    "\n",
    "color_list = sns.color_palette(n_colors=17)\n",
    "colors = np.asarray(color_list.as_hex())\n",
    "colors = {\n",
    "    \"nemo full-optimization\": colors[6],\n",
    "    \"nemo re-optimization\": \"pink\",\n",
    "    \"leach\": colors[1],\n",
    "    \"mst\": colors[2],\n",
    "    \"optimal\": \"blue\"\n",
    "}\n",
    "styles = {\n",
    "    \"nemo full-optimization\": \":\",\n",
    "    \"nemo re-optimization\": \":\",\n",
    "    \"leach\": \"-\",\n",
    "    \"mst\": \"--\",\n",
    "    \"optimal\": \".\"\n",
    "}\n",
    "markers = {\n",
    "    \"nemo full-optimization\": \"*\",\n",
    "    \"nemo re-optimization\": \"*\",\n",
    "    \"leach\": \"d\",\n",
    "    \"mst\": \"v\",\n",
    "    \"optimal\": \"x\"\n",
    "}"
   ],
   "metadata": {
    "collapsed": false,
    "ExecuteTime": {
     "end_time": "2023-08-01T16:18:56.990107029Z",
     "start_time": "2023-08-01T16:18:56.919374790Z"
    }
   }
  },
  {
   "cell_type": "code",
   "execution_count": 7,
   "outputs": [
    {
     "data": {
      "text/plain": "<Figure size 900x300 with 1 Axes>",
      "image/png": "[encoded data removed]"
     },
     "metadata": {},
     "output_type": "display_data"
    }
   ],
   "source": [
    "fig, ax = plt.subplots(figsize=(9, 3))\n",
    "\n",
    "for k, v in approaches.items():\n",
    "    # create a scatter plot\n",
    "    ax.scatter(topology_sizes, v, label=k, s=100, alpha=0.8, marker=markers[k], color=colors[k])\n",
    "\n",
    "    # calculate the linear regression line\n",
    "    slope, intercept = np.polyfit(topology_sizes, v, 1)\n",
    "    full_opt_line = np.poly1d((slope, intercept))(np.array(topology_sizes))\n",
    "    # plot the linear regression line\n",
    "    ax.plot(topology_sizes, full_opt_line, \"--\", alpha=0.8, color=colors[k])\n",
    "\n",
    "# set the axis labels and title\n",
    "ax.set_xlabel('number of nodes', fontsize=12)\n",
    "ax.set_ylabel('time (s)', fontsize=12)\n",
    "\n",
    "# Set the legend\n",
    "ax.legend()\n",
    "ax.ticklabel_format(style='plain', axis='x')\n",
    "\n",
    "# Set the x-ticks and format the tick labels\n",
    "xticks = [100, 100000, 500000, 1000000]\n",
    "xtick_labels = [f\"{xtick//1000}k\" if xtick < 1000000 else f\"{xtick//1000000}M\" for xtick in xticks]\n",
    "ax.set_xticks(xticks)\n",
    "ax.set_xticklabels(xtick_labels)\n",
    "\n",
    "# Set the tick label format for the x-axis\n",
    "formatter = FuncFormatter(lambda x, pos: f\"{x}\" if x < 1000 else f\"{x//1000}k\" if x < 1000000 else f\"{x//1000000}M\")\n",
    "ax.xaxis.set_major_formatter(formatter)\n",
    "\n",
    "ax.set_ylim([-50, 1500])\n",
    "\n",
    "plt.savefig(\"plots/scalability.svg\", bbox_inches = \"tight\")\n",
    "\n",
    "# show the plot\n",
    "plt.title('Optimization Time vs Topology Size')\n",
    "plt.show()"
   ],
   "metadata": {
    "collapsed": false,
    "ExecuteTime": {
     "end_time": "2023-08-01T16:18:58.161807834Z",
     "start_time": "2023-08-01T16:18:57.818399202Z"
    }
   }
  },
  {
   "cell_type": "code",
   "execution_count": null,
   "outputs": [],
   "source": [],
   "metadata": {
    "collapsed": false
   }
  }
 ],
 "metadata": {
  "kernelspec": {
   "display_name": "Python 3",
   "language": "python",
   "name": "python3"
  },
  "language_info": {
   "codemirror_mode": {
    "name": "ipython",
    "version": 2
   },
   "file_extension": ".py",
   "mimetype": "text/x-python",
   "name": "python",
   "nbconvert_exporter": "python",
   "pygments_lexer": "ipython2",
   "version": "2.7.6"
  }
 },
 "nbformat": 4,
 "nbformat_minor": 0
}
